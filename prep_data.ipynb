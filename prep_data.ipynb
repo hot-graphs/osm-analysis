{
 "cells": [
  {
   "cell_type": "markdown",
   "metadata": {},
   "source": [
    "# Points"
   ]
  },
  {
   "cell_type": "code",
   "execution_count": 65,
   "metadata": {
    "collapsed": true
   },
   "outputs": [],
   "source": [
    "from pathlib import Path\n",
    "import json\n",
    "\n",
    "import shapely\n",
    "import shapely.wkt\n",
    "import shapely.geometry.point\n",
    "import pandas"
   ]
  },
  {
   "cell_type": "code",
   "execution_count": 5,
   "metadata": {},
   "outputs": [],
   "source": [
    "adresace = pandas.read_csv('teplarny-adresace.csv', sep=';')"
   ]
  },
  {
   "cell_type": "code",
   "execution_count": 10,
   "metadata": {},
   "outputs": [
    {
     "name": "stdout",
     "output_type": "stream",
     "text": [
      "1361\n"
     ]
    },
    {
     "data": {
      "text/html": [
       "<div>\n",
       "<style>\n",
       "    .dataframe thead tr:only-child th {\n",
       "        text-align: right;\n",
       "    }\n",
       "\n",
       "    .dataframe thead th {\n",
       "        text-align: left;\n",
       "    }\n",
       "\n",
       "    .dataframe tbody tr th {\n",
       "        vertical-align: top;\n",
       "    }\n",
       "</style>\n",
       "<table border=\"1\" class=\"dataframe\">\n",
       "  <thead>\n",
       "    <tr style=\"text-align: right;\">\n",
       "      <th></th>\n",
       "      <th>Adresa</th>\n",
       "      <th>Adresa interní</th>\n",
       "      <th>Městská část</th>\n",
       "      <th>GPS lat</th>\n",
       "      <th>GPS lon</th>\n",
       "      <th>vyska</th>\n",
       "      <th>Typ zdroje</th>\n",
       "      <th>Systém</th>\n",
       "      <th>Popis</th>\n",
       "    </tr>\n",
       "  </thead>\n",
       "  <tbody>\n",
       "    <tr>\n",
       "      <th>0</th>\n",
       "      <td>Absolonova 26a</td>\n",
       "      <td>PKK1 Absolonov.26a</td>\n",
       "      <td>Komín</td>\n",
       "      <td>49.219944</td>\n",
       "      <td>16.557275</td>\n",
       "      <td>214.6</td>\n",
       "      <td>PK</td>\n",
       "      <td>K1AbsKOT</td>\n",
       "      <td>Kotle K1 Absolonova</td>\n",
       "    </tr>\n",
       "    <tr>\n",
       "      <th>1</th>\n",
       "      <td>Absolonova 26a</td>\n",
       "      <td>PKK1 Absolonov.26a</td>\n",
       "      <td>Komín</td>\n",
       "      <td>49.219944</td>\n",
       "      <td>16.557275</td>\n",
       "      <td>214.6</td>\n",
       "      <td>PK</td>\n",
       "      <td>K1AbsSTR</td>\n",
       "      <td>Topení K1 Absolonova</td>\n",
       "    </tr>\n",
       "    <tr>\n",
       "      <th>2</th>\n",
       "      <td>Absolonova 26a</td>\n",
       "      <td>PKK1 Absolonov.26a</td>\n",
       "      <td>Komín</td>\n",
       "      <td>49.219944</td>\n",
       "      <td>16.557275</td>\n",
       "      <td>214.6</td>\n",
       "      <td>PK</td>\n",
       "      <td>K1AbsMT</td>\n",
       "      <td>Měření K1 Absolonova</td>\n",
       "    </tr>\n",
       "    <tr>\n",
       "      <th>3</th>\n",
       "      <td>Absolonova 26a</td>\n",
       "      <td>PKK1 Absolonov.26a</td>\n",
       "      <td>Komín</td>\n",
       "      <td>49.219944</td>\n",
       "      <td>16.557275</td>\n",
       "      <td>214.6</td>\n",
       "      <td>PK</td>\n",
       "      <td>K1AbsPS1</td>\n",
       "      <td>14-16,18-20,22-24,26-28</td>\n",
       "    </tr>\n",
       "    <tr>\n",
       "      <th>4</th>\n",
       "      <td>Absolonova 26a</td>\n",
       "      <td>PKK1 Absolonov.26a</td>\n",
       "      <td>Komín</td>\n",
       "      <td>49.219944</td>\n",
       "      <td>16.557275</td>\n",
       "      <td>214.6</td>\n",
       "      <td>PK</td>\n",
       "      <td>AbsPS1MT</td>\n",
       "      <td>14-16,18-20,22-24,26-28</td>\n",
       "    </tr>\n",
       "  </tbody>\n",
       "</table>\n",
       "</div>"
      ],
      "text/plain": [
       "           Adresa      Adresa interní Městská část    GPS lat    GPS lon  \\\n",
       "0  Absolonova 26a  PKK1 Absolonov.26a        Komín  49.219944  16.557275   \n",
       "1  Absolonova 26a  PKK1 Absolonov.26a        Komín  49.219944  16.557275   \n",
       "2  Absolonova 26a  PKK1 Absolonov.26a        Komín  49.219944  16.557275   \n",
       "3  Absolonova 26a  PKK1 Absolonov.26a        Komín  49.219944  16.557275   \n",
       "4  Absolonova 26a  PKK1 Absolonov.26a        Komín  49.219944  16.557275   \n",
       "\n",
       "   vyska Typ zdroje    Systém                    Popis  \n",
       "0  214.6         PK  K1AbsKOT      Kotle K1 Absolonova  \n",
       "1  214.6         PK  K1AbsSTR     Topení K1 Absolonova  \n",
       "2  214.6         PK   K1AbsMT     Měření K1 Absolonova  \n",
       "3  214.6         PK  K1AbsPS1  14-16,18-20,22-24,26-28  \n",
       "4  214.6         PK  AbsPS1MT  14-16,18-20,22-24,26-28  "
      ]
     },
     "execution_count": 10,
     "metadata": {},
     "output_type": "execute_result"
    }
   ],
   "source": [
    "print(len(adresace))\n",
    "adresace.head()"
   ]
  },
  {
   "cell_type": "code",
   "execution_count": 12,
   "metadata": {},
   "outputs": [
    {
     "data": {
      "text/plain": [
       "468"
      ]
     },
     "execution_count": 12,
     "metadata": {},
     "output_type": "execute_result"
    }
   ],
   "source": [
    "gps_to_addr = adresace[['GPS lat', 'GPS lon', 'Adresa']].set_index(['GPS lat', 'GPS lon']).drop_duplicates()\n",
    "len(gps_to_addr)"
   ]
  },
  {
   "cell_type": "code",
   "execution_count": 13,
   "metadata": {},
   "outputs": [
    {
     "data": {
      "text/html": [
       "<div>\n",
       "<style>\n",
       "    .dataframe thead tr:only-child th {\n",
       "        text-align: right;\n",
       "    }\n",
       "\n",
       "    .dataframe thead th {\n",
       "        text-align: left;\n",
       "    }\n",
       "\n",
       "    .dataframe tbody tr th {\n",
       "        vertical-align: top;\n",
       "    }\n",
       "</style>\n",
       "<table border=\"1\" class=\"dataframe\">\n",
       "  <thead>\n",
       "    <tr style=\"text-align: right;\">\n",
       "      <th></th>\n",
       "      <th></th>\n",
       "      <th>Adresa</th>\n",
       "    </tr>\n",
       "    <tr>\n",
       "      <th>GPS lat</th>\n",
       "      <th>GPS lon</th>\n",
       "      <th></th>\n",
       "    </tr>\n",
       "  </thead>\n",
       "  <tbody>\n",
       "    <tr>\n",
       "      <th>49.219944</th>\n",
       "      <th>16.557275</th>\n",
       "      <td>Absolonova 26a</td>\n",
       "    </tr>\n",
       "    <tr>\n",
       "      <th>49.221424</th>\n",
       "      <th>16.555999</th>\n",
       "      <td>Absolonova 93a</td>\n",
       "    </tr>\n",
       "    <tr>\n",
       "      <th>49.225195</th>\n",
       "      <th>16.627615</th>\n",
       "      <td>Arbesova 12</td>\n",
       "    </tr>\n",
       "    <tr>\n",
       "      <th>49.188868</th>\n",
       "      <th>16.536241</th>\n",
       "      <td>Axmanova 12a</td>\n",
       "    </tr>\n",
       "    <tr>\n",
       "      <th>49.183984</th>\n",
       "      <th>16.600925</th>\n",
       "      <td>Bakalovo nábřeží 1,2</td>\n",
       "    </tr>\n",
       "  </tbody>\n",
       "</table>\n",
       "</div>"
      ],
      "text/plain": [
       "                                   Adresa\n",
       "GPS lat   GPS lon                        \n",
       "49.219944 16.557275        Absolonova 26a\n",
       "49.221424 16.555999        Absolonova 93a\n",
       "49.225195 16.627615           Arbesova 12\n",
       "49.188868 16.536241          Axmanova 12a\n",
       "49.183984 16.600925  Bakalovo nábřeží 1,2"
      ]
     },
     "execution_count": 13,
     "metadata": {},
     "output_type": "execute_result"
    }
   ],
   "source": [
    "gps_to_addr.head()"
   ]
  },
  {
   "cell_type": "markdown",
   "metadata": {},
   "source": [
    "# Greenery"
   ]
  },
  {
   "cell_type": "code",
   "execution_count": 20,
   "metadata": {},
   "outputs": [],
   "source": [
    "shapes = {}\n",
    "out_dir = Path('shapes')\n",
    "for path in out_dir.glob('*.wkt'):\n",
    "    wkt = path.read_text()\n",
    "    shapes[path.stem] = shapely.wkt.loads(wkt)"
   ]
  },
  {
   "cell_type": "code",
   "execution_count": 22,
   "metadata": {
    "scrolled": true
   },
   "outputs": [
    {
     "data": {
      "text/plain": [
       "{'allotments': <shapely.geometry.multipolygon.MultiPolygon at 0x7f46bf28fe48>,\n",
       " 'cemetery': <shapely.geometry.multipolygon.MultiPolygon at 0x7f46bf263208>,\n",
       " 'commercial': <shapely.geometry.multipolygon.MultiPolygon at 0x7f46bf28f828>,\n",
       " 'farm': <shapely.geometry.multipolygon.MultiPolygon at 0x7f46bf28f3c8>,\n",
       " 'forest': <shapely.geometry.multipolygon.MultiPolygon at 0x7f46bf263668>,\n",
       " 'grass': <shapely.geometry.multipolygon.MultiPolygon at 0x7f46bf28f518>,\n",
       " 'heath': <shapely.geometry.multipolygon.MultiPolygon at 0x7f46bf28f6d8>,\n",
       " 'industrial': <shapely.geometry.multipolygon.MultiPolygon at 0x7f46bf28f9e8>,\n",
       " 'meadow': <shapely.geometry.multipolygon.MultiPolygon at 0x7f46bf263eb8>,\n",
       " 'military': <shapely.geometry.multipolygon.MultiPolygon at 0x7f46bf277828>,\n",
       " 'nature_reserve': <shapely.geometry.multipolygon.MultiPolygon at 0x7f46bf28f048>,\n",
       " 'orchard': <shapely.geometry.multipolygon.MultiPolygon at 0x7f46bf2634a8>,\n",
       " 'park': <shapely.geometry.multipolygon.MultiPolygon at 0x7f46bf28f278>,\n",
       " 'quarry': <shapely.geometry.multipolygon.MultiPolygon at 0x7f46bf28f5f8>,\n",
       " 'recreation_ground': <shapely.geometry.multipolygon.MultiPolygon at 0x7f46bf2632b0>,\n",
       " 'residential': <shapely.geometry.multipolygon.MultiPolygon at 0x7f46bf263358>,\n",
       " 'retail': <shapely.geometry.multipolygon.MultiPolygon at 0x7f46bf28f2e8>,\n",
       " 'scrub': <shapely.geometry.multipolygon.MultiPolygon at 0x7f46bf28fdd8>,\n",
       " 'vineyard': <shapely.geometry.multipolygon.MultiPolygon at 0x7f46bf28f668>}"
      ]
     },
     "execution_count": 22,
     "metadata": {},
     "output_type": "execute_result"
    }
   ],
   "source": [
    "shapes"
   ]
  },
  {
   "cell_type": "code",
   "execution_count": 51,
   "metadata": {
    "collapsed": true
   },
   "outputs": [],
   "source": [
    "target_shape = shapes['park'].union(shapes['forest'])"
   ]
  },
  {
   "cell_type": "code",
   "execution_count": 69,
   "metadata": {},
   "outputs": [],
   "source": [
    "with Path('target_shape.json').open('w') as f:\n",
    "    json.dump(shapely.geometry.mapping(target_shape), f)"
   ]
  },
  {
   "cell_type": "markdown",
   "metadata": {},
   "source": [
    "# Point data"
   ]
  },
  {
   "cell_type": "code",
   "execution_count": 50,
   "metadata": {},
   "outputs": [
    {
     "data": {
      "text/html": [
       "<div>\n",
       "<style>\n",
       "    .dataframe thead tr:only-child th {\n",
       "        text-align: right;\n",
       "    }\n",
       "\n",
       "    .dataframe thead th {\n",
       "        text-align: left;\n",
       "    }\n",
       "\n",
       "    .dataframe tbody tr th {\n",
       "        vertical-align: top;\n",
       "    }\n",
       "</style>\n",
       "<table border=\"1\" class=\"dataframe\">\n",
       "  <thead>\n",
       "    <tr style=\"text-align: right;\">\n",
       "      <th></th>\n",
       "      <th></th>\n",
       "      <th>0.001</th>\n",
       "      <th>0.005</th>\n",
       "      <th>0.01</th>\n",
       "    </tr>\n",
       "    <tr>\n",
       "      <th>GPS lat</th>\n",
       "      <th>GPS lon</th>\n",
       "      <th></th>\n",
       "      <th></th>\n",
       "      <th></th>\n",
       "    </tr>\n",
       "  </thead>\n",
       "  <tbody>\n",
       "    <tr>\n",
       "      <th>49.219944</th>\n",
       "      <th>16.557275</th>\n",
       "      <td>NaN</td>\n",
       "      <td>NaN</td>\n",
       "      <td>NaN</td>\n",
       "    </tr>\n",
       "    <tr>\n",
       "      <th>49.221424</th>\n",
       "      <th>16.555999</th>\n",
       "      <td>NaN</td>\n",
       "      <td>NaN</td>\n",
       "      <td>NaN</td>\n",
       "    </tr>\n",
       "    <tr>\n",
       "      <th>49.225195</th>\n",
       "      <th>16.627615</th>\n",
       "      <td>NaN</td>\n",
       "      <td>NaN</td>\n",
       "      <td>NaN</td>\n",
       "    </tr>\n",
       "    <tr>\n",
       "      <th>49.188868</th>\n",
       "      <th>16.536241</th>\n",
       "      <td>NaN</td>\n",
       "      <td>NaN</td>\n",
       "      <td>NaN</td>\n",
       "    </tr>\n",
       "    <tr>\n",
       "      <th>49.183984</th>\n",
       "      <th>16.600925</th>\n",
       "      <td>NaN</td>\n",
       "      <td>NaN</td>\n",
       "      <td>NaN</td>\n",
       "    </tr>\n",
       "  </tbody>\n",
       "</table>\n",
       "</div>"
      ],
      "text/plain": [
       "                     0.001  0.005  0.010\n",
       "GPS lat   GPS lon                       \n",
       "49.219944 16.557275    NaN    NaN    NaN\n",
       "49.221424 16.555999    NaN    NaN    NaN\n",
       "49.225195 16.627615    NaN    NaN    NaN\n",
       "49.188868 16.536241    NaN    NaN    NaN\n",
       "49.183984 16.600925    NaN    NaN    NaN"
      ]
     },
     "execution_count": 50,
     "metadata": {},
     "output_type": "execute_result"
    }
   ],
   "source": [
    "radiuses = 0.001, 0.005, 0.01\n",
    "pts = pandas.DataFrame(columns=radiuses, index=gps_to_addr.index, dtype=float)\n",
    "pts.sort_index()\n",
    "pts.head()"
   ]
  },
  {
   "cell_type": "code",
   "execution_count": 52,
   "metadata": {},
   "outputs": [
    {
     "name": "stderr",
     "output_type": "stream",
     "text": [
      "/home/pviktori/dev/brnohack/__venv__/lib64/python3.5/site-packages/ipykernel/kernelbase.py:399: PerformanceWarning: indexing past lexsort depth may impact performance.\n",
      "  user_expressions, allow_stdin)\n",
      "/home/pviktori/dev/brnohack/__venv__/lib64/python3.5/site-packages/ipykernel/zmqshell.py:533: PerformanceWarning: indexing past lexsort depth may impact performance.\n",
      "  return super(ZMQInteractiveShell, self).run_cell(*args, **kwargs)\n"
     ]
    },
    {
     "data": {
      "text/html": [
       "<div>\n",
       "<style>\n",
       "    .dataframe thead tr:only-child th {\n",
       "        text-align: right;\n",
       "    }\n",
       "\n",
       "    .dataframe thead th {\n",
       "        text-align: left;\n",
       "    }\n",
       "\n",
       "    .dataframe tbody tr th {\n",
       "        vertical-align: top;\n",
       "    }\n",
       "</style>\n",
       "<table border=\"1\" class=\"dataframe\">\n",
       "  <thead>\n",
       "    <tr style=\"text-align: right;\">\n",
       "      <th></th>\n",
       "      <th></th>\n",
       "      <th>0.001</th>\n",
       "      <th>0.005</th>\n",
       "      <th>0.01</th>\n",
       "    </tr>\n",
       "    <tr>\n",
       "      <th>GPS lat</th>\n",
       "      <th>GPS lon</th>\n",
       "      <th></th>\n",
       "      <th></th>\n",
       "      <th></th>\n",
       "    </tr>\n",
       "  </thead>\n",
       "  <tbody>\n",
       "    <tr>\n",
       "      <th>49.219944</th>\n",
       "      <th>16.557275</th>\n",
       "      <td>0.000000</td>\n",
       "      <td>0.006768</td>\n",
       "      <td>0.089513</td>\n",
       "    </tr>\n",
       "    <tr>\n",
       "      <th>49.221424</th>\n",
       "      <th>16.555999</th>\n",
       "      <td>0.000000</td>\n",
       "      <td>0.000014</td>\n",
       "      <td>0.075922</td>\n",
       "    </tr>\n",
       "    <tr>\n",
       "      <th>49.225195</th>\n",
       "      <th>16.627615</th>\n",
       "      <td>0.476345</td>\n",
       "      <td>0.552731</td>\n",
       "      <td>0.427979</td>\n",
       "    </tr>\n",
       "    <tr>\n",
       "      <th>49.188868</th>\n",
       "      <th>16.536241</th>\n",
       "      <td>0.224494</td>\n",
       "      <td>0.429830</td>\n",
       "      <td>0.379868</td>\n",
       "    </tr>\n",
       "    <tr>\n",
       "      <th>49.183984</th>\n",
       "      <th>16.600925</th>\n",
       "      <td>0.349685</td>\n",
       "      <td>0.062003</td>\n",
       "      <td>0.054482</td>\n",
       "    </tr>\n",
       "  </tbody>\n",
       "</table>\n",
       "</div>"
      ],
      "text/plain": [
       "                        0.001     0.005     0.010\n",
       "GPS lat   GPS lon                                \n",
       "49.219944 16.557275  0.000000  0.006768  0.089513\n",
       "49.221424 16.555999  0.000000  0.000014  0.075922\n",
       "49.225195 16.627615  0.476345  0.552731  0.427979\n",
       "49.188868 16.536241  0.224494  0.429830  0.379868\n",
       "49.183984 16.600925  0.349685  0.062003  0.054482"
      ]
     },
     "execution_count": 52,
     "metadata": {},
     "output_type": "execute_result"
    }
   ],
   "source": [
    "for lat, lon in pts.index:\n",
    "    pt = shapely.geometry.point.Point(lon, lat)\n",
    "    for radius in radiuses:\n",
    "        buf = pt.buffer(radius)\n",
    "        intersection = buf.intersection(target_shape)\n",
    "        pts.loc[(lat, lon), radius] = intersection.area / buf.area\n",
    "pts.head()"
   ]
  },
  {
   "cell_type": "code",
   "execution_count": 55,
   "metadata": {},
   "outputs": [
    {
     "data": {
      "text/html": [
       "<div>\n",
       "<style>\n",
       "    .dataframe thead tr:only-child th {\n",
       "        text-align: right;\n",
       "    }\n",
       "\n",
       "    .dataframe thead th {\n",
       "        text-align: left;\n",
       "    }\n",
       "\n",
       "    .dataframe tbody tr th {\n",
       "        vertical-align: top;\n",
       "    }\n",
       "</style>\n",
       "<table border=\"1\" class=\"dataframe\">\n",
       "  <thead>\n",
       "    <tr style=\"text-align: right;\">\n",
       "      <th></th>\n",
       "      <th>0.001</th>\n",
       "      <th>0.005</th>\n",
       "      <th>0.01</th>\n",
       "    </tr>\n",
       "  </thead>\n",
       "  <tbody>\n",
       "    <tr>\n",
       "      <th>count</th>\n",
       "      <td>468.000000</td>\n",
       "      <td>468.000000</td>\n",
       "      <td>468.000000</td>\n",
       "    </tr>\n",
       "    <tr>\n",
       "      <th>mean</th>\n",
       "      <td>0.060158</td>\n",
       "      <td>0.083184</td>\n",
       "      <td>0.110503</td>\n",
       "    </tr>\n",
       "    <tr>\n",
       "      <th>std</th>\n",
       "      <td>0.158464</td>\n",
       "      <td>0.128271</td>\n",
       "      <td>0.114249</td>\n",
       "    </tr>\n",
       "    <tr>\n",
       "      <th>min</th>\n",
       "      <td>0.000000</td>\n",
       "      <td>0.000000</td>\n",
       "      <td>0.000000</td>\n",
       "    </tr>\n",
       "    <tr>\n",
       "      <th>25%</th>\n",
       "      <td>0.000000</td>\n",
       "      <td>0.013646</td>\n",
       "      <td>0.040991</td>\n",
       "    </tr>\n",
       "    <tr>\n",
       "      <th>50%</th>\n",
       "      <td>0.000000</td>\n",
       "      <td>0.035065</td>\n",
       "      <td>0.072484</td>\n",
       "    </tr>\n",
       "    <tr>\n",
       "      <th>75%</th>\n",
       "      <td>0.001194</td>\n",
       "      <td>0.078132</td>\n",
       "      <td>0.129324</td>\n",
       "    </tr>\n",
       "    <tr>\n",
       "      <th>max</th>\n",
       "      <td>0.834338</td>\n",
       "      <td>0.699118</td>\n",
       "      <td>0.705347</td>\n",
       "    </tr>\n",
       "  </tbody>\n",
       "</table>\n",
       "</div>"
      ],
      "text/plain": [
       "            0.001       0.005       0.010\n",
       "count  468.000000  468.000000  468.000000\n",
       "mean     0.060158    0.083184    0.110503\n",
       "std      0.158464    0.128271    0.114249\n",
       "min      0.000000    0.000000    0.000000\n",
       "25%      0.000000    0.013646    0.040991\n",
       "50%      0.000000    0.035065    0.072484\n",
       "75%      0.001194    0.078132    0.129324\n",
       "max      0.834338    0.699118    0.705347"
      ]
     },
     "execution_count": 55,
     "metadata": {},
     "output_type": "execute_result"
    }
   ],
   "source": [
    "pts.describe()"
   ]
  },
  {
   "cell_type": "code",
   "execution_count": 56,
   "metadata": {},
   "outputs": [
    {
     "data": {
      "text/plain": [
       "34482"
      ]
     },
     "execution_count": 56,
     "metadata": {},
     "output_type": "execute_result"
    }
   ],
   "source": [
    "Path('points.csv').write_text(pts.to_csv())"
   ]
  },
  {
   "cell_type": "code",
   "execution_count": 61,
   "metadata": {},
   "outputs": [
    {
     "name": "stdout",
     "output_type": "stream",
     "text": [
      "0.0003136548490546016\n"
     ]
    },
    {
     "data": {
      "image/svg+xml": [
       "<svg xmlns=\"http://www.w3.org/2000/svg\" xmlns:xlink=\"http://www.w3.org/1999/xlink\" width=\"100.0\" height=\"100.0\" viewBox=\"16.497430599999994 49.209468900000005 0.021600000000006503 0.021599999999992292\" preserveAspectRatio=\"xMinYMin meet\"><g transform=\"matrix(1,0,0,-1,0,98.4405378)\"><path fill-rule=\"evenodd\" fill=\"#66cc99\" stroke=\"#555555\" stroke-width=\"0.00043200000000013003\" opacity=\"0.6\" d=\"M 16.5182306,49.2202689 L 16.51818244726672,49.2192887285967 L 16.51803845280403,49.21831799677984 L 16.51780000335732,49.21736605322746 L 16.51746939532511,49.21644206567635 L 16.51704981264348,49.21555493263174 L 16.516545296123024,49.2147131976698 L 16.515960704533626,49.21392496715836 L 16.515301667811862,49.213197832188136 L 16.514574532841635,49.21253879546637 L 16.513786302330193,49.21195420387698 L 16.512944567368258,49.21144968735652 L 16.512057434323648,49.21103010467489 L 16.511133446772543,49.210699496642675 L 16.51018150322016,49.21046104719597 L 16.509210771403293,49.21031705273328 L 16.508230599999997,49.2102689 L 16.507250428596702,49.21031705273328 L 16.506279696779835,49.21046104719597 L 16.50532775322745,49.210699496642675 L 16.504403765676347,49.21103010467489 L 16.503516632631737,49.21144968735652 L 16.502674897669802,49.21195420387698 L 16.50188666715836,49.21253879546637 L 16.501159532188133,49.213197832188136 L 16.50050049546637,49.21392496715836 L 16.49991590387697,49.2147131976698 L 16.499411387356513,49.21555493263174 L 16.498991804674883,49.21644206567635 L 16.498661196642676,49.21736605322746 L 16.498422747195963,49.21831799677984 L 16.498278752733274,49.2192887285967 L 16.498230599999996,49.2202689 L 16.498278752733274,49.2212490714033 L 16.498422747195963,49.22221980322016 L 16.498661196642676,49.22317174677254 L 16.498991804674883,49.224095734323654 L 16.499411387356513,49.22498286736826 L 16.49991590387697,49.2258246023302 L 16.50050049546637,49.22661283284164 L 16.501159532188133,49.227339967811865 L 16.50188666715836,49.22799900453363 L 16.502674897669802,49.22858359612302 L 16.503516632631737,49.22908811264348 L 16.504403765676347,49.22950769532511 L 16.50532775322745,49.229838303357326 L 16.506279696779835,49.23007675280403 L 16.507250428596702,49.23022074726672 L 16.508230599999997,49.2302689 L 16.509210771403293,49.23022074726672 L 16.51018150322016,49.23007675280403 L 16.511133446772543,49.229838303357326 L 16.512057434323648,49.22950769532511 L 16.512944567368258,49.22908811264348 L 16.513786302330193,49.22858359612302 L 16.514574532841635,49.22799900453363 L 16.515301667811862,49.227339967811865 L 16.515960704533626,49.22661283284164 L 16.516545296123024,49.2258246023302 L 16.51704981264348,49.22498286736826 L 16.51746939532511,49.224095734323654 L 16.51780000335732,49.22317174677254 L 16.51803845280403,49.22221980322016 L 16.51818244726672,49.2212490714033 L 16.5182306,49.2202689 z\" /></g></svg>"
      ],
      "text/plain": [
       "<shapely.geometry.polygon.Polygon at 0x7f46beb3fc50>"
      ]
     },
     "execution_count": 61,
     "metadata": {},
     "output_type": "execute_result"
    }
   ],
   "source": [
    "print(buf.area)\n",
    "buf"
   ]
  },
  {
   "cell_type": "code",
   "execution_count": 62,
   "metadata": {},
   "outputs": [
    {
     "name": "stdout",
     "output_type": "stream",
     "text": [
      "4.06269032207059e-05\n"
     ]
    },
    {
     "data": {
      "image/svg+xml": [
       "<svg xmlns=\"http://www.w3.org/2000/svg\" xmlns:xlink=\"http://www.w3.org/1999/xlink\" width=\"100.0\" height=\"100.0\" viewBox=\"16.499819124228022 49.209657872140234 0.01715357305304721 0.020197158766023904\" preserveAspectRatio=\"xMinYMin meet\"><g transform=\"matrix(1,0,0,-1,0,98.43951290304649)\"><g><path fill-rule=\"evenodd\" fill=\"#66cc99\" stroke=\"#555555\" stroke-width=\"0.00040394317532047806\" opacity=\"0.6\" d=\"M 16.51622465436381,49.21428086230536 L 16.515960704533626,49.21392496715836 L 16.515301667811862,49.213197832188136 L 16.514574532841635,49.21253879546637 L 16.513786302330193,49.21195420387698 L 16.512944567368258,49.21144968735652 L 16.512057434323648,49.21103010467489 L 16.511133446772543,49.210699496642675 L 16.51018150322016,49.21046104719597 L 16.509809832532607,49.21040591505749 L 16.509806,49.2104149 L 16.5095806,49.2106162 L 16.5092945,49.2107531 L 16.5091207,49.2107873 L 16.5090995,49.2107912 L 16.5089955,49.2108018 L 16.5088291,49.210798 L 16.5086087,49.2107614 L 16.5082839,49.2107454 L 16.506946,49.210914 L 16.507008,49.210525 L 16.506604732079445,49.210412832763815 L 16.506279696779835,49.21046104719597 L 16.506055110839053,49.21051730304558 L 16.5058495,49.2107275 L 16.50453751117819,49.21098224976913 L 16.504403765676347,49.21103010467489 L 16.503516632631737,49.21144968735652 L 16.502674897669802,49.21195420387698 L 16.50188666715836,49.21253879546637 L 16.501159532188133,49.213197832188136 L 16.50056716714528,49.21385140629649 L 16.5013893,49.2139083 L 16.5018882,49.2137955 L 16.5027071,49.2139421 L 16.5038675,49.2139694 L 16.504814,49.213766 L 16.5054541,49.2137147 L 16.5088416,49.2129027 L 16.5092113,49.2126126 L 16.5124267,49.2126115 L 16.5141726,49.2129335 L 16.5146284,49.2139252 L 16.5146538,49.2142441 L 16.5150104,49.2143661 L 16.515675,49.214366 L 16.515738,49.214361 L 16.51622465436381,49.21428086230536 z\" /><path fill-rule=\"evenodd\" fill=\"#66cc99\" stroke=\"#555555\" stroke-width=\"0.00040394317532047806\" opacity=\"0.6\" d=\"M 16.51290465880323,49.229106987989 L 16.512944567368258,49.22908811264348 L 16.513786302330193,49.22858359612302 L 16.514005533307206,49.22842100334916 L 16.514243,49.2281583 L 16.5144897922092,49.22806185246996 L 16.514574532841635,49.22799900453363 L 16.515301667811862,49.227339967811865 L 16.515830670476632,49.22675630331459 L 16.515702,49.2267368 L 16.5156511,49.2265809 L 16.5156618,49.2263146 L 16.5155545,49.2261517 L 16.5154231,49.2259661 L 16.5153346,49.2258224 L 16.5152273,49.2257506 L 16.5152393,49.2259398 L 16.5152313,49.2260449 L 16.515179,49.2261342 L 16.5142469,49.2260221 L 16.5142096,49.2260764 L 16.5142287,49.2260615 L 16.5142493,49.2260539 L 16.5142663,49.2260515 L 16.5143037,49.2260505 L 16.514387,49.2260565 L 16.514729,49.2261009 L 16.5148928,49.2261208 L 16.5149557,49.2261242 L 16.515046,49.2261423 L 16.5150797,49.2261534 L 16.5151181,49.2261776 L 16.5151087,49.2262196 L 16.5150649,49.2262561 L 16.5150155,49.226296 L 16.5149947,49.2263624 L 16.5149365,49.2264713 L 16.5149176,49.2265016 L 16.5149993,49.2265634 L 16.5149859,49.226644 L 16.5148357,49.2266335 L 16.5145219,49.2266422 L 16.514035,49.2266492 L 16.5140578,49.2268349 L 16.514035,49.2269505 L 16.5151203,49.2270815 L 16.5151736,49.2271865 L 16.5148249,49.2273538 L 16.5139559,49.2271935 L 16.5138084,49.2276472 L 16.5137466,49.227911 L 16.513655,49.2278933 L 16.513612,49.2280264 L 16.5136076,49.2280941 L 16.5135988,49.2282297 L 16.5135867,49.2282606 L 16.5132651,49.2283647 L 16.5130876,49.2283993 L 16.5129729,49.2284164 L 16.5128336,49.2284438 L 16.5126813,49.2284455 L 16.5126256,49.2284235 L 16.5125409,49.2283537 L 16.5120142,49.2277394 L 16.5119473,49.2276304 L 16.5119746,49.2275581 L 16.5120637,49.2274795 L 16.512204,49.2274497 L 16.5123649,49.2273786 L 16.5123532,49.2273419 L 16.5122964,49.2273433 L 16.5122282,49.2273131 L 16.512088,49.227284 L 16.5119227,49.2272649 L 16.511588,49.227127 L 16.511459,49.2270227 L 16.5113616,49.2269941 L 16.51116,49.2269688 L 16.50993,49.2268489 L 16.5097612,49.2268529 L 16.5092017,49.2268845 L 16.5092389,49.2269098 L 16.5092654,49.2269334 L 16.5092882,49.2269622 L 16.509419,49.2272619 L 16.5095001,49.2275373 L 16.5095116,49.2275843 L 16.509512,49.2276313 L 16.5095042,49.2277113 L 16.509477,49.2278242 L 16.5094407,49.2279591 L 16.5094406,49.2280423 L 16.5094609,49.2281442 L 16.5094775,49.2281771 L 16.5096687,49.2282516 L 16.5100073,49.2283317 L 16.5101024,49.2280534 L 16.5103259,49.2278945 L 16.5105553,49.2277849 L 16.5107511,49.2277773 L 16.5110203,49.2279844 L 16.511093,49.227945 L 16.5112968,49.2276315 L 16.5114872,49.2275781 L 16.5118976,49.2279669 L 16.5114282,49.2282043 L 16.5112677,49.2281958 L 16.5114547,49.2285891 L 16.5116591,49.2288188 L 16.5124923,49.2290962 L 16.51290465880323,49.229106987989 z\" /><path fill-rule=\"evenodd\" fill=\"#66cc99\" stroke=\"#555555\" stroke-width=\"0.00040394317532047806\" opacity=\"0.6\" d=\"M 16.5102568,49.2164961 L 16.5108989,49.2163268 L 16.5107644,49.2161844 L 16.5108819,49.2160919 L 16.5114959,49.2161127 L 16.5117259,49.2160716 L 16.5123263,49.215621 L 16.5127739,49.2150638 L 16.512728,49.2149402 L 16.513206,49.2145 L 16.513748,49.2145 L 16.514151,49.214888 L 16.5143993,49.2145741 L 16.514454,49.214505 L 16.514476,49.2142588 L 16.5144033,49.213884 L 16.513894,49.2130323 L 16.513196,49.2128389 L 16.513152,49.212936 L 16.5135928,49.2131976 L 16.513312,49.213525 L 16.513561,49.213939 L 16.5130452,49.2141381 L 16.5126246,49.2140499 L 16.5121292,49.2143006 L 16.5119195,49.2145317 L 16.5116538,49.2145254 L 16.5117146,49.2145689 L 16.5109021,49.2150041 L 16.510981,49.2151635 L 16.510703,49.2155491 L 16.5107929,49.2156226 L 16.5105757,49.2157248 L 16.5103133,49.216142 L 16.5102568,49.2164961 z\" /><path fill-rule=\"evenodd\" fill=\"#66cc99\" stroke=\"#555555\" stroke-width=\"0.00040394317532047806\" opacity=\"0.6\" d=\"M 16.5103211,49.2165442 L 16.5106531,49.2167929 L 16.5110017,49.2165597 L 16.5116627,49.2163092 L 16.5116319,49.2161883 L 16.5115431,49.2161694 L 16.5109423,49.2163759 L 16.5103211,49.2165442 z\" /><path fill-rule=\"evenodd\" fill=\"#66cc99\" stroke=\"#555555\" stroke-width=\"0.00040394317532047806\" opacity=\"0.6\" d=\"M 16.5134001,49.2269538 L 16.5135211,49.2269986 L 16.5136162,49.227066 L 16.5136695,49.2271024 L 16.5136872,49.2271372 L 16.5138504,49.2273587 L 16.5138889,49.2272027 L 16.5139841,49.2268428 L 16.513972,49.2266913 L 16.5134001,49.2269538 z\" /></g></g></svg>"
      ],
      "text/plain": [
       "<shapely.geometry.multipolygon.MultiPolygon at 0x7f46beb4cd68>"
      ]
     },
     "execution_count": 62,
     "metadata": {},
     "output_type": "execute_result"
    }
   ],
   "source": [
    "print(intersection.area)\n",
    "intersection"
   ]
  },
  {
   "cell_type": "code",
   "execution_count": null,
   "metadata": {},
   "outputs": [],
   "source": []
  },
  {
   "cell_type": "code",
   "execution_count": null,
   "metadata": {},
   "outputs": [],
   "source": []
  },
  {
   "cell_type": "code",
   "execution_count": null,
   "metadata": {
    "collapsed": true
   },
   "outputs": [],
   "source": []
  }
 ],
 "metadata": {
  "kernelspec": {
   "display_name": "Python 3",
   "language": "python",
   "name": "python3"
  },
  "language_info": {
   "codemirror_mode": {
    "name": "ipython",
    "version": 3
   },
   "file_extension": ".py",
   "mimetype": "text/x-python",
   "name": "python",
   "nbconvert_exporter": "python",
   "pygments_lexer": "ipython3",
   "version": "3.5.3"
  }
 },
 "nbformat": 4,
 "nbformat_minor": 2
}
