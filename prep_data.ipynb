{
 "cells": [
  {
   "cell_type": "markdown",
   "metadata": {},
   "source": [
    "# Points"
   ]
  },
  {
   "cell_type": "code",
   "execution_count": 28,
   "metadata": {
    "collapsed": true
   },
   "outputs": [],
   "source": [
    "from pathlib import Path\n",
    "import shapely\n",
    "import shapely.wkt\n",
    "import shapely.geometry.point\n",
    "import pandas"
   ]
  },
  {
   "cell_type": "code",
   "execution_count": 5,
   "metadata": {},
   "outputs": [],
   "source": [
    "adresace = pandas.read_csv('teplarny-adresace.csv', sep=';')"
   ]
  },
  {
   "cell_type": "code",
   "execution_count": 10,
   "metadata": {},
   "outputs": [
    {
     "name": "stdout",
     "output_type": "stream",
     "text": [
      "1361\n"
     ]
    },
    {
     "data": {
      "text/html": [
       "<div>\n",
       "<style>\n",
       "    .dataframe thead tr:only-child th {\n",
       "        text-align: right;\n",
       "    }\n",
       "\n",
       "    .dataframe thead th {\n",
       "        text-align: left;\n",
       "    }\n",
       "\n",
       "    .dataframe tbody tr th {\n",
       "        vertical-align: top;\n",
       "    }\n",
       "</style>\n",
       "<table border=\"1\" class=\"dataframe\">\n",
       "  <thead>\n",
       "    <tr style=\"text-align: right;\">\n",
       "      <th></th>\n",
       "      <th>Adresa</th>\n",
       "      <th>Adresa interní</th>\n",
       "      <th>Městská část</th>\n",
       "      <th>GPS lat</th>\n",
       "      <th>GPS lon</th>\n",
       "      <th>vyska</th>\n",
       "      <th>Typ zdroje</th>\n",
       "      <th>Systém</th>\n",
       "      <th>Popis</th>\n",
       "    </tr>\n",
       "  </thead>\n",
       "  <tbody>\n",
       "    <tr>\n",
       "      <th>0</th>\n",
       "      <td>Absolonova 26a</td>\n",
       "      <td>PKK1 Absolonov.26a</td>\n",
       "      <td>Komín</td>\n",
       "      <td>49.219944</td>\n",
       "      <td>16.557275</td>\n",
       "      <td>214.6</td>\n",
       "      <td>PK</td>\n",
       "      <td>K1AbsKOT</td>\n",
       "      <td>Kotle K1 Absolonova</td>\n",
       "    </tr>\n",
       "    <tr>\n",
       "      <th>1</th>\n",
       "      <td>Absolonova 26a</td>\n",
       "      <td>PKK1 Absolonov.26a</td>\n",
       "      <td>Komín</td>\n",
       "      <td>49.219944</td>\n",
       "      <td>16.557275</td>\n",
       "      <td>214.6</td>\n",
       "      <td>PK</td>\n",
       "      <td>K1AbsSTR</td>\n",
       "      <td>Topení K1 Absolonova</td>\n",
       "    </tr>\n",
       "    <tr>\n",
       "      <th>2</th>\n",
       "      <td>Absolonova 26a</td>\n",
       "      <td>PKK1 Absolonov.26a</td>\n",
       "      <td>Komín</td>\n",
       "      <td>49.219944</td>\n",
       "      <td>16.557275</td>\n",
       "      <td>214.6</td>\n",
       "      <td>PK</td>\n",
       "      <td>K1AbsMT</td>\n",
       "      <td>Měření K1 Absolonova</td>\n",
       "    </tr>\n",
       "    <tr>\n",
       "      <th>3</th>\n",
       "      <td>Absolonova 26a</td>\n",
       "      <td>PKK1 Absolonov.26a</td>\n",
       "      <td>Komín</td>\n",
       "      <td>49.219944</td>\n",
       "      <td>16.557275</td>\n",
       "      <td>214.6</td>\n",
       "      <td>PK</td>\n",
       "      <td>K1AbsPS1</td>\n",
       "      <td>14-16,18-20,22-24,26-28</td>\n",
       "    </tr>\n",
       "    <tr>\n",
       "      <th>4</th>\n",
       "      <td>Absolonova 26a</td>\n",
       "      <td>PKK1 Absolonov.26a</td>\n",
       "      <td>Komín</td>\n",
       "      <td>49.219944</td>\n",
       "      <td>16.557275</td>\n",
       "      <td>214.6</td>\n",
       "      <td>PK</td>\n",
       "      <td>AbsPS1MT</td>\n",
       "      <td>14-16,18-20,22-24,26-28</td>\n",
       "    </tr>\n",
       "  </tbody>\n",
       "</table>\n",
       "</div>"
      ],
      "text/plain": [
       "           Adresa      Adresa interní Městská část    GPS lat    GPS lon  \\\n",
       "0  Absolonova 26a  PKK1 Absolonov.26a        Komín  49.219944  16.557275   \n",
       "1  Absolonova 26a  PKK1 Absolonov.26a        Komín  49.219944  16.557275   \n",
       "2  Absolonova 26a  PKK1 Absolonov.26a        Komín  49.219944  16.557275   \n",
       "3  Absolonova 26a  PKK1 Absolonov.26a        Komín  49.219944  16.557275   \n",
       "4  Absolonova 26a  PKK1 Absolonov.26a        Komín  49.219944  16.557275   \n",
       "\n",
       "   vyska Typ zdroje    Systém                    Popis  \n",
       "0  214.6         PK  K1AbsKOT      Kotle K1 Absolonova  \n",
       "1  214.6         PK  K1AbsSTR     Topení K1 Absolonova  \n",
       "2  214.6         PK   K1AbsMT     Měření K1 Absolonova  \n",
       "3  214.6         PK  K1AbsPS1  14-16,18-20,22-24,26-28  \n",
       "4  214.6         PK  AbsPS1MT  14-16,18-20,22-24,26-28  "
      ]
     },
     "execution_count": 10,
     "metadata": {},
     "output_type": "execute_result"
    }
   ],
   "source": [
    "print(len(adresace))\n",
    "adresace.head()"
   ]
  },
  {
   "cell_type": "code",
   "execution_count": 12,
   "metadata": {},
   "outputs": [
    {
     "data": {
      "text/plain": [
       "468"
      ]
     },
     "execution_count": 12,
     "metadata": {},
     "output_type": "execute_result"
    }
   ],
   "source": [
    "gps_to_addr = adresace[['GPS lat', 'GPS lon', 'Adresa']].set_index(['GPS lat', 'GPS lon']).drop_duplicates()\n",
    "len(gps_to_addr)"
   ]
  },
  {
   "cell_type": "code",
   "execution_count": 13,
   "metadata": {},
   "outputs": [
    {
     "data": {
      "text/html": [
       "<div>\n",
       "<style>\n",
       "    .dataframe thead tr:only-child th {\n",
       "        text-align: right;\n",
       "    }\n",
       "\n",
       "    .dataframe thead th {\n",
       "        text-align: left;\n",
       "    }\n",
       "\n",
       "    .dataframe tbody tr th {\n",
       "        vertical-align: top;\n",
       "    }\n",
       "</style>\n",
       "<table border=\"1\" class=\"dataframe\">\n",
       "  <thead>\n",
       "    <tr style=\"text-align: right;\">\n",
       "      <th></th>\n",
       "      <th></th>\n",
       "      <th>Adresa</th>\n",
       "    </tr>\n",
       "    <tr>\n",
       "      <th>GPS lat</th>\n",
       "      <th>GPS lon</th>\n",
       "      <th></th>\n",
       "    </tr>\n",
       "  </thead>\n",
       "  <tbody>\n",
       "    <tr>\n",
       "      <th>49.219944</th>\n",
       "      <th>16.557275</th>\n",
       "      <td>Absolonova 26a</td>\n",
       "    </tr>\n",
       "    <tr>\n",
       "      <th>49.221424</th>\n",
       "      <th>16.555999</th>\n",
       "      <td>Absolonova 93a</td>\n",
       "    </tr>\n",
       "    <tr>\n",
       "      <th>49.225195</th>\n",
       "      <th>16.627615</th>\n",
       "      <td>Arbesova 12</td>\n",
       "    </tr>\n",
       "    <tr>\n",
       "      <th>49.188868</th>\n",
       "      <th>16.536241</th>\n",
       "      <td>Axmanova 12a</td>\n",
       "    </tr>\n",
       "    <tr>\n",
       "      <th>49.183984</th>\n",
       "      <th>16.600925</th>\n",
       "      <td>Bakalovo nábřeží 1,2</td>\n",
       "    </tr>\n",
       "  </tbody>\n",
       "</table>\n",
       "</div>"
      ],
      "text/plain": [
       "                                   Adresa\n",
       "GPS lat   GPS lon                        \n",
       "49.219944 16.557275        Absolonova 26a\n",
       "49.221424 16.555999        Absolonova 93a\n",
       "49.225195 16.627615           Arbesova 12\n",
       "49.188868 16.536241          Axmanova 12a\n",
       "49.183984 16.600925  Bakalovo nábřeží 1,2"
      ]
     },
     "execution_count": 13,
     "metadata": {},
     "output_type": "execute_result"
    }
   ],
   "source": [
    "gps_to_addr.head()"
   ]
  },
  {
   "cell_type": "markdown",
   "metadata": {},
   "source": [
    "# Greenery"
   ]
  },
  {
   "cell_type": "code",
   "execution_count": 20,
   "metadata": {},
   "outputs": [],
   "source": [
    "shapes = {}\n",
    "out_dir = Path('shapes')\n",
    "for path in out_dir.glob('*.wkt'):\n",
    "    wkt = path.read_text()\n",
    "    shapes[path.stem] = shapely.wkt.loads(wkt)"
   ]
  },
  {
   "cell_type": "code",
   "execution_count": 22,
   "metadata": {},
   "outputs": [
    {
     "data": {
      "text/plain": [
       "{'allotments': <shapely.geometry.multipolygon.MultiPolygon at 0x7f46bf28fe48>,\n",
       " 'cemetery': <shapely.geometry.multipolygon.MultiPolygon at 0x7f46bf263208>,\n",
       " 'commercial': <shapely.geometry.multipolygon.MultiPolygon at 0x7f46bf28f828>,\n",
       " 'farm': <shapely.geometry.multipolygon.MultiPolygon at 0x7f46bf28f3c8>,\n",
       " 'forest': <shapely.geometry.multipolygon.MultiPolygon at 0x7f46bf263668>,\n",
       " 'grass': <shapely.geometry.multipolygon.MultiPolygon at 0x7f46bf28f518>,\n",
       " 'heath': <shapely.geometry.multipolygon.MultiPolygon at 0x7f46bf28f6d8>,\n",
       " 'industrial': <shapely.geometry.multipolygon.MultiPolygon at 0x7f46bf28f9e8>,\n",
       " 'meadow': <shapely.geometry.multipolygon.MultiPolygon at 0x7f46bf263eb8>,\n",
       " 'military': <shapely.geometry.multipolygon.MultiPolygon at 0x7f46bf277828>,\n",
       " 'nature_reserve': <shapely.geometry.multipolygon.MultiPolygon at 0x7f46bf28f048>,\n",
       " 'orchard': <shapely.geometry.multipolygon.MultiPolygon at 0x7f46bf2634a8>,\n",
       " 'park': <shapely.geometry.multipolygon.MultiPolygon at 0x7f46bf28f278>,\n",
       " 'quarry': <shapely.geometry.multipolygon.MultiPolygon at 0x7f46bf28f5f8>,\n",
       " 'recreation_ground': <shapely.geometry.multipolygon.MultiPolygon at 0x7f46bf2632b0>,\n",
       " 'residential': <shapely.geometry.multipolygon.MultiPolygon at 0x7f46bf263358>,\n",
       " 'retail': <shapely.geometry.multipolygon.MultiPolygon at 0x7f46bf28f2e8>,\n",
       " 'scrub': <shapely.geometry.multipolygon.MultiPolygon at 0x7f46bf28fdd8>,\n",
       " 'vineyard': <shapely.geometry.multipolygon.MultiPolygon at 0x7f46bf28f668>}"
      ]
     },
     "execution_count": 22,
     "metadata": {},
     "output_type": "execute_result"
    }
   ],
   "source": [
    "shapes"
   ]
  },
  {
   "cell_type": "markdown",
   "metadata": {},
   "source": [
    "# Point data"
   ]
  },
  {
   "cell_type": "code",
   "execution_count": 34,
   "metadata": {},
   "outputs": [
    {
     "data": {
      "text/html": [
       "<div>\n",
       "<style>\n",
       "    .dataframe thead tr:only-child th {\n",
       "        text-align: right;\n",
       "    }\n",
       "\n",
       "    .dataframe thead th {\n",
       "        text-align: left;\n",
       "    }\n",
       "\n",
       "    .dataframe tbody tr th {\n",
       "        vertical-align: top;\n",
       "    }\n",
       "</style>\n",
       "<table border=\"1\" class=\"dataframe\">\n",
       "  <thead>\n",
       "    <tr style=\"text-align: right;\">\n",
       "      <th></th>\n",
       "      <th></th>\n",
       "      <th>0.0001</th>\n",
       "      <th>0.001</th>\n",
       "      <th>0.01</th>\n",
       "    </tr>\n",
       "    <tr>\n",
       "      <th>GPS lat</th>\n",
       "      <th>GPS lon</th>\n",
       "      <th></th>\n",
       "      <th></th>\n",
       "      <th></th>\n",
       "    </tr>\n",
       "  </thead>\n",
       "  <tbody>\n",
       "    <tr>\n",
       "      <th>49.219944</th>\n",
       "      <th>16.557275</th>\n",
       "      <td>NaN</td>\n",
       "      <td>NaN</td>\n",
       "      <td>NaN</td>\n",
       "    </tr>\n",
       "    <tr>\n",
       "      <th>49.221424</th>\n",
       "      <th>16.555999</th>\n",
       "      <td>NaN</td>\n",
       "      <td>NaN</td>\n",
       "      <td>NaN</td>\n",
       "    </tr>\n",
       "    <tr>\n",
       "      <th>49.225195</th>\n",
       "      <th>16.627615</th>\n",
       "      <td>NaN</td>\n",
       "      <td>NaN</td>\n",
       "      <td>NaN</td>\n",
       "    </tr>\n",
       "    <tr>\n",
       "      <th>49.188868</th>\n",
       "      <th>16.536241</th>\n",
       "      <td>NaN</td>\n",
       "      <td>NaN</td>\n",
       "      <td>NaN</td>\n",
       "    </tr>\n",
       "    <tr>\n",
       "      <th>49.183984</th>\n",
       "      <th>16.600925</th>\n",
       "      <td>NaN</td>\n",
       "      <td>NaN</td>\n",
       "      <td>NaN</td>\n",
       "    </tr>\n",
       "  </tbody>\n",
       "</table>\n",
       "</div>"
      ],
      "text/plain": [
       "                    0.0001 0.0010 0.0100\n",
       "GPS lat   GPS lon                       \n",
       "49.219944 16.557275    NaN    NaN    NaN\n",
       "49.221424 16.555999    NaN    NaN    NaN\n",
       "49.225195 16.627615    NaN    NaN    NaN\n",
       "49.188868 16.536241    NaN    NaN    NaN\n",
       "49.183984 16.600925    NaN    NaN    NaN"
      ]
     },
     "execution_count": 34,
     "metadata": {},
     "output_type": "execute_result"
    }
   ],
   "source": [
    "radiuses = 0.0001, 0.001, 0.01\n",
    "pts = pandas.DataFrame(columns=radiuses, index=gps_to_addr.index)\n",
    "pts.sort_index()\n",
    "pts.head()"
   ]
  },
  {
   "cell_type": "code",
   "execution_count": 35,
   "metadata": {
    "collapsed": true
   },
   "outputs": [],
   "source": [
    "target_shape = shapes['park'].union(shapes['forest'])"
   ]
  },
  {
   "cell_type": "code",
   "execution_count": 37,
   "metadata": {},
   "outputs": [
    {
     "name": "stderr",
     "output_type": "stream",
     "text": [
      "/home/pviktori/dev/brnohack/__venv__/lib64/python3.5/site-packages/ipykernel/kernelbase.py:399: PerformanceWarning: indexing past lexsort depth may impact performance.\n",
      "  user_expressions, allow_stdin)\n",
      "/home/pviktori/dev/brnohack/__venv__/lib64/python3.5/site-packages/ipykernel/zmqshell.py:533: PerformanceWarning: indexing past lexsort depth may impact performance.\n",
      "  return super(ZMQInteractiveShell, self).run_cell(*args, **kwargs)\n"
     ]
    },
    {
     "data": {
      "text/html": [
       "<div>\n",
       "<style>\n",
       "    .dataframe thead tr:only-child th {\n",
       "        text-align: right;\n",
       "    }\n",
       "\n",
       "    .dataframe thead th {\n",
       "        text-align: left;\n",
       "    }\n",
       "\n",
       "    .dataframe tbody tr th {\n",
       "        vertical-align: top;\n",
       "    }\n",
       "</style>\n",
       "<table border=\"1\" class=\"dataframe\">\n",
       "  <thead>\n",
       "    <tr style=\"text-align: right;\">\n",
       "      <th></th>\n",
       "      <th></th>\n",
       "      <th>0.0001</th>\n",
       "      <th>0.001</th>\n",
       "      <th>0.01</th>\n",
       "    </tr>\n",
       "    <tr>\n",
       "      <th>GPS lat</th>\n",
       "      <th>GPS lon</th>\n",
       "      <th></th>\n",
       "      <th></th>\n",
       "      <th></th>\n",
       "    </tr>\n",
       "  </thead>\n",
       "  <tbody>\n",
       "    <tr>\n",
       "      <th>49.219944</th>\n",
       "      <th>16.557275</th>\n",
       "      <td>0</td>\n",
       "      <td>0</td>\n",
       "      <td>0.0895133</td>\n",
       "    </tr>\n",
       "    <tr>\n",
       "      <th>49.221424</th>\n",
       "      <th>16.555999</th>\n",
       "      <td>0</td>\n",
       "      <td>0</td>\n",
       "      <td>0.0759217</td>\n",
       "    </tr>\n",
       "    <tr>\n",
       "      <th>49.225195</th>\n",
       "      <th>16.627615</th>\n",
       "      <td>0</td>\n",
       "      <td>0.476345</td>\n",
       "      <td>0.427979</td>\n",
       "    </tr>\n",
       "    <tr>\n",
       "      <th>49.188868</th>\n",
       "      <th>16.536241</th>\n",
       "      <td>0</td>\n",
       "      <td>0.224494</td>\n",
       "      <td>0.379868</td>\n",
       "    </tr>\n",
       "    <tr>\n",
       "      <th>49.183984</th>\n",
       "      <th>16.600925</th>\n",
       "      <td>0</td>\n",
       "      <td>0.349685</td>\n",
       "      <td>0.0544823</td>\n",
       "    </tr>\n",
       "  </tbody>\n",
       "</table>\n",
       "</div>"
      ],
      "text/plain": [
       "                    0.0001    0.0010     0.0100\n",
       "GPS lat   GPS lon                              \n",
       "49.219944 16.557275      0         0  0.0895133\n",
       "49.221424 16.555999      0         0  0.0759217\n",
       "49.225195 16.627615      0  0.476345   0.427979\n",
       "49.188868 16.536241      0  0.224494   0.379868\n",
       "49.183984 16.600925      0  0.349685  0.0544823"
      ]
     },
     "execution_count": 37,
     "metadata": {},
     "output_type": "execute_result"
    }
   ],
   "source": [
    "for lat, lon in pts.index:\n",
    "    pt = shapely.geometry.point.Point(lon, lat)\n",
    "    for radius in radiuses:\n",
    "        buf = pt.buffer(radius)\n",
    "        intersection = buf.intersection(target_shape)\n",
    "        pts.loc[(lat, lon), radius] = intersection.area / buf.area\n",
    "pts.head()"
   ]
  },
  {
   "cell_type": "code",
   "execution_count": 41,
   "metadata": {},
   "outputs": [
    {
     "data": {
      "text/plain": [
       "27252"
      ]
     },
     "execution_count": 41,
     "metadata": {},
     "output_type": "execute_result"
    }
   ],
   "source": [
    "Path('points.csv').write_text(pts.to_csv())"
   ]
  },
  {
   "cell_type": "code",
   "execution_count": null,
   "metadata": {
    "collapsed": true
   },
   "outputs": [],
   "source": []
  }
 ],
 "metadata": {
  "kernelspec": {
   "display_name": "Python 3",
   "language": "python",
   "name": "python3"
  },
  "language_info": {
   "codemirror_mode": {
    "name": "ipython",
    "version": 3
   },
   "file_extension": ".py",
   "mimetype": "text/x-python",
   "name": "python",
   "nbconvert_exporter": "python",
   "pygments_lexer": "ipython3",
   "version": "3.5.3"
  }
 },
 "nbformat": 4,
 "nbformat_minor": 2
}
